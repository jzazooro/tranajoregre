{
 "cells": [
  {
   "cell_type": "code",
   "execution_count": 1,
   "metadata": {},
   "outputs": [
    {
     "name": "stdout",
     "output_type": "stream",
     "text": [
      "           id        date  bedrooms bathrooms  sqft_living  sqft_lot floors  \\\n",
      "0  7129300520  13/10/2014         3         1         1180      5650      1   \n",
      "1  6414100192  09/12/2014         3      2,25         2570      7242      2   \n",
      "2  5631500400  25/02/2015         2         1          770     10000      1   \n",
      "3  2487200875  09/12/2014         4         3         1960      5000      1   \n",
      "4  1954400510  18/02/2015         3         2         1680      8080      1   \n",
      "\n",
      "   waterfront  view  condition  ...  sqft_above  sqft_basement  yr_built  \\\n",
      "0           0     0          3  ...        1180              0      1955   \n",
      "1           0     0          3  ...        2170            400      1951   \n",
      "2           0     0          3  ...         770              0      1933   \n",
      "3           0     0          5  ...        1050            910      1965   \n",
      "4           0     0          3  ...        1680              0      1987   \n",
      "\n",
      "   yr_renovated  zipcode      lat      long sqft_living15  sqft_lot15   price  \n",
      "0             0    98178  47,5112  -122,257          1340        5650  221900  \n",
      "1          1991    98125   47,721  -122,319          1690        7639  538000  \n",
      "2             0    98028  47,7379  -122,233          2720        8062  180000  \n",
      "3             0    98136  47,5208  -122,393          1360        5000  604000  \n",
      "4             0    98074  47,6168  -122,045          1800        7503  510000  \n",
      "\n",
      "[5 rows x 21 columns]\n"
     ]
    }
   ],
   "source": [
    "\n",
    "import pandas as pd\n",
    "df = pd.read_csv('regression_data.csv', delimiter=\";\")\n",
    "print(df.head())"
   ]
  },
  {
   "cell_type": "code",
   "execution_count": 2,
   "metadata": {},
   "outputs": [],
   "source": [
    "\n",
    "\n",
    "df.drop(['date'],axis=1, inplace = True )\n"
   ]
  },
  {
   "cell_type": "code",
   "execution_count": 3,
   "metadata": {},
   "outputs": [
    {
     "name": "stdout",
     "output_type": "stream",
     "text": [
      "21597\n"
     ]
    }
   ],
   "source": [
    "\n",
    "print(df.shape[0])\n"
   ]
  },
  {
   "cell_type": "code",
   "execution_count": 4,
   "metadata": {},
   "outputs": [
    {
     "name": "stdout",
     "output_type": "stream",
     "text": [
      "[ 3  2  4  5  1  6  7  8  9 11 10 33]\n",
      "['1' '2,25' '3' '2' '4,5' '1,5' '2,5' '1,75' '2,75' '3,25' '4' '3,5'\n",
      " '0,75' '4,75' '5' '4,25' '3,75' '1,25' '5,25' '6' '0,5' '5,5' '6,75'\n",
      " '5,75' '8' '7,5' '7,75' '6,25' '6,5']\n",
      "['1' '2' '1,5' '3' '2,5' '3,5']\n",
      "[ 7  6  8 11  9  5 10 12  4  3 13]\n",
      "[3 5 4 1 2]\n"
     ]
    }
   ],
   "source": [
    "print(df['bedrooms'].unique())\n",
    "print(df['bathrooms'].unique())\n",
    "print(df['floors'].unique())\n",
    "\n",
    "print(df['grade'].unique())\n",
    "print(df['condition'].unique())\n"
   ]
  },
  {
   "cell_type": "code",
   "execution_count": 5,
   "metadata": {},
   "outputs": [
    {
     "name": "stdout",
     "output_type": "stream",
     "text": [
      "7245    6762700020\n",
      "3910    9808700762\n",
      "9245    9208900037\n",
      "4407    2470100110\n",
      "1446    8907500070\n",
      "1313    7558700030\n",
      "1162    1247600105\n",
      "8085    1924059029\n",
      "2624    7738500731\n",
      "8629    3835500195\n",
      "Name: id, dtype: int64\n"
     ]
    }
   ],
   "source": [
    "\n",
    "df.sort_values(by=['price'], ascending=False, inplace=True)\n",
    "\n",
    "print(df['id'].head(10))\n",
    "\n"
   ]
  },
  {
   "cell_type": "code",
   "execution_count": 6,
   "metadata": {},
   "outputs": [
    {
     "name": "stdout",
     "output_type": "stream",
     "text": [
      "540296.5735055795\n"
     ]
    }
   ],
   "source": [
    "\n",
    "\n",
    "print(df['price'].mean())\n",
    "\n",
    "\n",
    "\n",
    "\n",
    "\n",
    "\n",
    "\n"
   ]
  },
  {
   "cell_type": "code",
   "execution_count": 7,
   "metadata": {},
   "outputs": [
    {
     "name": "stderr",
     "output_type": "stream",
     "text": [
      "C:\\Users\\Familia\\AppData\\Local\\Temp\\ipykernel_13564\\1998100147.py:1: FutureWarning: The default value of numeric_only in DataFrameGroupBy.mean is deprecated. In a future version, numeric_only will default to False. Either specify numeric_only or select only columns which should be valid for the function.\n",
      "  df.groupby(\"bedrooms\").mean()[\"price\"]\n",
      "C:\\Users\\Familia\\AppData\\Local\\Temp\\ipykernel_13564\\1998100147.py:2: FutureWarning: The default value of numeric_only in DataFrameGroupBy.mean is deprecated. In a future version, numeric_only will default to False. Either specify numeric_only or select only columns which should be valid for the function.\n",
      "  df.groupby(\"bedrooms\").mean()[\"sqft_living\"]\n"
     ]
    },
    {
     "name": "stdout",
     "output_type": "stream",
     "text": [
      "-0.1468958009100885\n"
     ]
    },
    {
     "name": "stderr",
     "output_type": "stream",
     "text": [
      "C:\\Users\\Familia\\AppData\\Local\\Temp\\ipykernel_13564\\1998100147.py:8: FutureWarning: The default value of numeric_only in DataFrame.corr is deprecated. In a future version, it will default to False. Select only valid columns or specify the value of numeric_only to silence this warning.\n",
      "  df.corr()\n"
     ]
    }
   ],
   "source": [
    "df.groupby(\"bedrooms\").mean()[\"price\"]\n",
    "df.groupby(\"bedrooms\").mean()[\"sqft_living\"]\n",
    "\n",
    "\n",
    "import matplotlib.pyplot as plt\n",
    "\n",
    "\n",
    "df.corr()\n",
    "\n",
    "print(df['grade'].corr(df['condition']))\n",
    "\n",
    "\n",
    "\n",
    "\n",
    "\n",
    "\n",
    "\n",
    "\n",
    "\n"
   ]
  },
  {
   "cell_type": "code",
   "execution_count": 8,
   "metadata": {},
   "outputs": [
    {
     "name": "stderr",
     "output_type": "stream",
     "text": [
      "C:\\Users\\Familia\\AppData\\Local\\Temp\\ipykernel_13564\\3013428969.py:1: FutureWarning: The default value of numeric_only in DataFrameGroupBy.mean is deprecated. In a future version, numeric_only will default to False. Either specify numeric_only or select only columns which should be valid for the function.\n",
      "  df.groupby(\"waterfront\").mean()[\"price\"]\n"
     ]
    },
    {
     "data": {
      "text/plain": [
       "waterfront\n",
       "0    5.317623e+05\n",
       "1    1.662524e+06\n",
       "Name: price, dtype: float64"
      ]
     },
     "execution_count": 8,
     "metadata": {},
     "output_type": "execute_result"
    }
   ],
   "source": [
    "df.groupby(\"waterfront\").mean()[\"price\"]"
   ]
  },
  {
   "cell_type": "code",
   "execution_count": 9,
   "metadata": {},
   "outputs": [
    {
     "name": "stderr",
     "output_type": "stream",
     "text": [
      "C:\\Users\\Familia\\AppData\\Local\\Temp\\ipykernel_13564\\1272259036.py:1: FutureWarning: The default value of numeric_only in DataFrameGroupBy.mean is deprecated. In a future version, numeric_only will default to False. Either specify numeric_only or select only columns which should be valid for the function.\n",
      "  df.groupby(\"bedrooms\").mean()[\"sqft_living\"]\n"
     ]
    },
    {
     "data": {
      "text/plain": [
       "bedrooms\n",
       "1      888.153061\n",
       "2     1239.752899\n",
       "3     1805.837235\n",
       "4     2554.649666\n",
       "5     3047.545284\n",
       "6     3284.341912\n",
       "7     3974.210526\n",
       "8     3800.000000\n",
       "9     3775.000000\n",
       "10    3706.666667\n",
       "11    3000.000000\n",
       "33    1620.000000\n",
       "Name: sqft_living, dtype: float64"
      ]
     },
     "execution_count": 9,
     "metadata": {},
     "output_type": "execute_result"
    }
   ],
   "source": [
    "df.groupby(\"bedrooms\").mean()[\"sqft_living\"]"
   ]
  },
  {
   "cell_type": "code",
   "execution_count": 10,
   "metadata": {},
   "outputs": [
    {
     "name": "stderr",
     "output_type": "stream",
     "text": [
      "C:\\Users\\Familia\\AppData\\Local\\Temp\\ipykernel_13564\\1614423611.py:1: FutureWarning: The default value of numeric_only in DataFrameGroupBy.mean is deprecated. In a future version, numeric_only will default to False. Either specify numeric_only or select only columns which should be valid for the function.\n",
      "  df.groupby(\"bedrooms\").mean()[\"price\"]\n"
     ]
    },
    {
     "data": {
      "text/plain": [
       "bedrooms\n",
       "1     3.182395e+05\n",
       "2     4.013877e+05\n",
       "3     4.662766e+05\n",
       "4     6.355647e+05\n",
       "5     7.868741e+05\n",
       "6     8.258535e+05\n",
       "7     9.514478e+05\n",
       "8     1.105077e+06\n",
       "9     8.939998e+05\n",
       "10    8.200000e+05\n",
       "11    5.200000e+05\n",
       "33    6.400000e+05\n",
       "Name: price, dtype: float64"
      ]
     },
     "execution_count": 10,
     "metadata": {},
     "output_type": "execute_result"
    }
   ],
   "source": [
    "df.groupby(\"bedrooms\").mean()[\"price\"]"
   ]
  },
  {
   "cell_type": "code",
   "execution_count": 11,
   "metadata": {},
   "outputs": [
    {
     "data": {
      "text/plain": [
       "bathrooms\n",
       "0,5        4\n",
       "0,75      71\n",
       "1       3851\n",
       "1,25       9\n",
       "1,5     1445\n",
       "1,75    3048\n",
       "2       1930\n",
       "2,25    2047\n",
       "2,5     5377\n",
       "2,75    1185\n",
       "3        753\n",
       "3,25     589\n",
       "3,5      731\n",
       "3,75     155\n",
       "4        136\n",
       "4,25      79\n",
       "4,5      100\n",
       "4,75      23\n",
       "5         21\n",
       "5,25      13\n",
       "5,5       10\n",
       "5,75       4\n",
       "6          6\n",
       "6,25       2\n",
       "6,5        2\n",
       "6,75       2\n",
       "7,5        1\n",
       "7,75       1\n",
       "8          2\n",
       "Name: price, dtype: int64"
      ]
     },
     "execution_count": 11,
     "metadata": {},
     "output_type": "execute_result"
    }
   ],
   "source": [
    "# Get the number of houses in each category\n",
    "\n",
    "df.groupby(\"bathrooms\").count()[\"price\"]\n",
    "\n"
   ]
  },
  {
   "cell_type": "code",
   "execution_count": 12,
   "metadata": {},
   "outputs": [
    {
     "data": {
      "text/plain": [
       "bedrooms\n",
       "1      196\n",
       "2     2760\n",
       "3     9824\n",
       "4     6882\n",
       "5     1601\n",
       "6      272\n",
       "7       38\n",
       "8       13\n",
       "9        6\n",
       "10       3\n",
       "11       1\n",
       "33       1\n",
       "Name: price, dtype: int64"
      ]
     },
     "execution_count": 12,
     "metadata": {},
     "output_type": "execute_result"
    }
   ],
   "source": [
    "df.groupby(\"bedrooms\").count()[\"price\"]"
   ]
  },
  {
   "cell_type": "code",
   "execution_count": 13,
   "metadata": {},
   "outputs": [
    {
     "data": {
      "text/plain": [
       "sqft_living\n",
       "370      1\n",
       "380      1\n",
       "390      1\n",
       "410      1\n",
       "420      2\n",
       "        ..\n",
       "9640     1\n",
       "9890     1\n",
       "10040    1\n",
       "12050    1\n",
       "13540    1\n",
       "Name: price, Length: 1034, dtype: int64"
      ]
     },
     "execution_count": 13,
     "metadata": {},
     "output_type": "execute_result"
    }
   ],
   "source": [
    "df.groupby(\"sqft_living\").count()[\"price\"]"
   ]
  },
  {
   "cell_type": "code",
   "execution_count": 14,
   "metadata": {},
   "outputs": [
    {
     "data": {
      "text/plain": [
       "floors\n",
       "1      10673\n",
       "1,5     1910\n",
       "2       8235\n",
       "2,5      161\n",
       "3        611\n",
       "3,5        7\n",
       "Name: price, dtype: int64"
      ]
     },
     "execution_count": 14,
     "metadata": {},
     "output_type": "execute_result"
    }
   ],
   "source": [
    "df.groupby(\"floors\").count()[\"price\"]"
   ]
  },
  {
   "cell_type": "code",
   "execution_count": 15,
   "metadata": {},
   "outputs": [
    {
     "data": {
      "text/plain": [
       "grade\n",
       "3        1\n",
       "4       27\n",
       "5      242\n",
       "6     2038\n",
       "7     8974\n",
       "8     6065\n",
       "9     2615\n",
       "10    1134\n",
       "11     399\n",
       "12      89\n",
       "13      13\n",
       "Name: price, dtype: int64"
      ]
     },
     "execution_count": 15,
     "metadata": {},
     "output_type": "execute_result"
    }
   ],
   "source": [
    "df.groupby(\"grade\").count()[\"price\"]"
   ]
  },
  {
   "cell_type": "code",
   "execution_count": 16,
   "metadata": {},
   "outputs": [
    {
     "data": {
      "text/plain": [
       "view\n",
       "0    19475\n",
       "1      332\n",
       "2      961\n",
       "3      510\n",
       "4      319\n",
       "Name: price, dtype: int64"
      ]
     },
     "execution_count": 16,
     "metadata": {},
     "output_type": "execute_result"
    }
   ],
   "source": [
    "df.groupby(\"view\").count()[\"price\"]"
   ]
  },
  {
   "cell_type": "code",
   "execution_count": 17,
   "metadata": {},
   "outputs": [
    {
     "data": {
      "text/plain": [
       "condition\n",
       "1       29\n",
       "2      170\n",
       "3    14020\n",
       "4     5677\n",
       "5     1701\n",
       "Name: price, dtype: int64"
      ]
     },
     "execution_count": 17,
     "metadata": {},
     "output_type": "execute_result"
    }
   ],
   "source": [
    "df.groupby(\"condition\").count()[\"price\"]"
   ]
  },
  {
   "cell_type": "code",
   "execution_count": 18,
   "metadata": {},
   "outputs": [
    {
     "data": {
      "text/plain": [
       "waterfront\n",
       "0    21434\n",
       "1      163\n",
       "Name: price, dtype: int64"
      ]
     },
     "execution_count": 18,
     "metadata": {},
     "output_type": "execute_result"
    }
   ],
   "source": [
    "df.groupby(\"waterfront\").count()[\"price\"]"
   ]
  },
  {
   "cell_type": "code",
   "execution_count": 19,
   "metadata": {},
   "outputs": [
    {
     "data": {
      "text/plain": [
       "view\n",
       "0    19475\n",
       "1      332\n",
       "2      961\n",
       "3      510\n",
       "4      319\n",
       "Name: price, dtype: int64"
      ]
     },
     "execution_count": 19,
     "metadata": {},
     "output_type": "execute_result"
    }
   ],
   "source": [
    "df.groupby(\"view\").count()[\"price\"]"
   ]
  },
  {
   "cell_type": "code",
   "execution_count": 23,
   "metadata": {},
   "outputs": [
    {
     "data": {
      "text/plain": [
       "long\n",
       "-121,315    2\n",
       "-121,316    1\n",
       "-121,319    1\n",
       "-121,321    1\n",
       "-121,325    1\n",
       "           ..\n",
       "-122,511    2\n",
       "-122,512    1\n",
       "-122,514    1\n",
       "-122,515    1\n",
       "-122,519    1\n",
       "Name: price, Length: 751, dtype: int64"
      ]
     },
     "execution_count": 23,
     "metadata": {},
     "output_type": "execute_result"
    }
   ],
   "source": [
    "df.groupby(\"long\").count()[\"price\"]"
   ]
  },
  {
   "cell_type": "code",
   "execution_count": 22,
   "metadata": {},
   "outputs": [
    {
     "data": {
      "text/plain": [
       "lat\n",
       "47,1559    1\n",
       "47,1593    1\n",
       "47,1622    1\n",
       "47,1647    1\n",
       "47,1764    1\n",
       "          ..\n",
       "47,7771    2\n",
       "47,7772    3\n",
       "47,7774    1\n",
       "47,7775    3\n",
       "47,7776    3\n",
       "Name: price, Length: 5033, dtype: int64"
      ]
     },
     "execution_count": 22,
     "metadata": {},
     "output_type": "execute_result"
    }
   ],
   "source": [
    "df.groupby(\"lat\").count()[\"price\"]"
   ]
  },
  {
   "cell_type": "code",
   "execution_count": 24,
   "metadata": {},
   "outputs": [
    {
     "data": {
      "text/plain": [
       "sqft_living15\n",
       "399     1\n",
       "460     2\n",
       "620     2\n",
       "670     1\n",
       "690     2\n",
       "       ..\n",
       "5600    1\n",
       "5610    1\n",
       "5790    6\n",
       "6110    1\n",
       "6210    1\n",
       "Name: price, Length: 777, dtype: int64"
      ]
     },
     "execution_count": 24,
     "metadata": {},
     "output_type": "execute_result"
    }
   ],
   "source": [
    "df.groupby(\"sqft_living15\").count()[\"price\"]"
   ]
  },
  {
   "cell_type": "code",
   "execution_count": 25,
   "metadata": {},
   "outputs": [
    {
     "data": {
      "text/plain": [
       "sqft_lot15\n",
       "651       1\n",
       "659       1\n",
       "660       1\n",
       "748       2\n",
       "750       4\n",
       "         ..\n",
       "434728    1\n",
       "438213    1\n",
       "560617    1\n",
       "858132    1\n",
       "871200    1\n",
       "Name: price, Length: 8682, dtype: int64"
      ]
     },
     "execution_count": 25,
     "metadata": {},
     "output_type": "execute_result"
    }
   ],
   "source": [
    "df.groupby(\"sqft_lot15\").count()[\"price\"]\n"
   ]
  },
  {
   "cell_type": "code",
   "execution_count": 26,
   "metadata": {},
   "outputs": [
    {
     "data": {
      "text/plain": [
       "sqft_above\n",
       "370     1\n",
       "380     1\n",
       "390     1\n",
       "410     1\n",
       "420     2\n",
       "       ..\n",
       "7880    1\n",
       "8020    1\n",
       "8570    1\n",
       "8860    1\n",
       "9410    1\n",
       "Name: price, Length: 942, dtype: int64"
      ]
     },
     "execution_count": 26,
     "metadata": {},
     "output_type": "execute_result"
    }
   ],
   "source": [
    "df.groupby(\"sqft_above\").count()[\"price\"]"
   ]
  },
  {
   "cell_type": "code",
   "execution_count": 27,
   "metadata": {},
   "outputs": [
    {
     "data": {
      "text/plain": [
       "sqft_basement\n",
       "0       13110\n",
       "10          2\n",
       "20          1\n",
       "40          4\n",
       "50         11\n",
       "        ...  \n",
       "3260        1\n",
       "3480        1\n",
       "3500        1\n",
       "4130        1\n",
       "4820        1\n",
       "Name: price, Length: 306, dtype: int64"
      ]
     },
     "execution_count": 27,
     "metadata": {},
     "output_type": "execute_result"
    }
   ],
   "source": [
    "df.groupby(\"sqft_basement\").count()[\"price\"]"
   ]
  },
  {
   "cell_type": "code",
   "execution_count": 28,
   "metadata": {},
   "outputs": [
    {
     "data": {
      "text/plain": [
       "yr_built\n",
       "1900     87\n",
       "1901     29\n",
       "1902     27\n",
       "1903     46\n",
       "1904     45\n",
       "       ... \n",
       "2011    130\n",
       "2012    170\n",
       "2013    201\n",
       "2014    559\n",
       "2015     38\n",
       "Name: price, Length: 116, dtype: int64"
      ]
     },
     "execution_count": 28,
     "metadata": {},
     "output_type": "execute_result"
    }
   ],
   "source": [
    "df.groupby(\"yr_built\").count()[\"price\"]"
   ]
  },
  {
   "cell_type": "code",
   "execution_count": 29,
   "metadata": {},
   "outputs": [
    {
     "data": {
      "text/plain": [
       "yr_renovated\n",
       "0       20683\n",
       "1934        1\n",
       "1940        2\n",
       "1944        1\n",
       "1945        3\n",
       "        ...  \n",
       "2011       13\n",
       "2012       11\n",
       "2013       37\n",
       "2014       91\n",
       "2015       16\n",
       "Name: price, Length: 70, dtype: int64"
      ]
     },
     "execution_count": 29,
     "metadata": {},
     "output_type": "execute_result"
    }
   ],
   "source": [
    "df.groupby(\"yr_renovated\").count()[\"price\"]"
   ]
  },
  {
   "cell_type": "code",
   "execution_count": 30,
   "metadata": {},
   "outputs": [
    {
     "data": {
      "text/plain": [
       "zipcode\n",
       "98001    361\n",
       "98002    199\n",
       "98003    280\n",
       "98004    317\n",
       "98005    168\n",
       "        ... \n",
       "98177    255\n",
       "98178    262\n",
       "98188    136\n",
       "98198    280\n",
       "98199    317\n",
       "Name: price, Length: 70, dtype: int64"
      ]
     },
     "execution_count": 30,
     "metadata": {},
     "output_type": "execute_result"
    }
   ],
   "source": [
    "df.groupby(\"zipcode\").count()[\"price\"]"
   ]
  },
  {
   "cell_type": "code",
   "execution_count": null,
   "metadata": {},
   "outputs": [],
   "source": [
    "# find a house with Number of bedrooms either 3 or 4,Bathrooms more than 3,One Floor, No waterfront, Condition should be 3 at least, Grade should be 5 at least, Price smaller than 300000\n",
    "\n",
    "df[((df['bedrooms'] == 3) | (df['bedrooms'] == 4)) & (df['bathrooms'] > 3) & (df['floors'] == 1) & (df['waterfront'] == 0) & (df['condition'] >= 3) & (df['grade'] >= 5) & (df['price'] < 300000)]\n",
    "       \n",
    "\n",
    "\n",
    "\n",
    "\n",
    "\n",
    "\n",
    "\n",
    "\n",
    "\n"
   ]
  }
 ],
 "metadata": {
  "kernelspec": {
   "display_name": "Python 3",
   "language": "python",
   "name": "python3"
  },
  "language_info": {
   "codemirror_mode": {
    "name": "ipython",
    "version": 3
   },
   "file_extension": ".py",
   "mimetype": "text/x-python",
   "name": "python",
   "nbconvert_exporter": "python",
   "pygments_lexer": "ipython3",
   "version": "3.10.9"
  },
  "orig_nbformat": 4,
  "vscode": {
   "interpreter": {
    "hash": "3f6e3fd15d64392dcf6fa3fbdf7e32c37dc1b37c6a6385148130fb1cc28367fa"
   }
  }
 },
 "nbformat": 4,
 "nbformat_minor": 2
}
